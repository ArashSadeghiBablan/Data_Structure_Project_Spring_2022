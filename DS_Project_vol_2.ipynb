{
 "cells": [
  {
   "cell_type": "code",
   "execution_count": 34,
   "metadata": {},
   "outputs": [],
   "source": [
    "#Ideas:\n",
    "#   not case sensitive jafar of jAfaR\n",
    "\n",
    "\n",
    "\n",
    "\n",
    "\n",
    "class TrieTree:\n",
    "    \n",
    "    def __init__(self):\n",
    "        self.root = {'*':'*'}\n",
    "    \n",
    "    def AddWord(self, word):\n",
    "        pointer = self.root\n",
    "        for letter in word:\n",
    "            if letter not in pointer:\n",
    "                pointer[letter] = {}\n",
    "            pointer = pointer[letter]\n",
    "        pointer['*'] = '*'\n",
    "        print(self.root)\n",
    "\n",
    "    def SearchWord(self, word):\n",
    "        pointer = self.root\n",
    "        for letter in word:\n",
    "            if letter not in pointer:\n",
    "                return False\n",
    "            pointer = pointer[letter]\n",
    "            #print(letter)\n",
    "        if '*' not in pointer:\n",
    "            return False\n",
    "        return True\n",
    "\n",
    "    def DeleteWord(self, word):\n",
    "        if self.SearchWord(word) == False:\n",
    "            return print(\"the word doesn't exist.\")\n",
    "        else:\n",
    "            pointer = self.root\n",
    "            array = []\n",
    "            for letter in word:\n",
    "                array.append(len(pointer))\n",
    "                pointer = pointer[letter]\n",
    "            array.append(len(pointer))\n",
    "            #print(array)\n",
    "            del pointer['*']\n",
    "            while array[-1] == 1:\n",
    "                array = []\n",
    "                pointer = self.root\n",
    "                for letter in word:\n",
    "                    array.append(len(pointer))\n",
    "                    PointerTemp = pointer\n",
    "                    pointer = pointer[letter]\n",
    "\n",
    "                PointerTemp.popitem()\n",
    "            print(word, \"has been deleted.\")\n",
    "            # if three words are the same add a two word same and then remove both of them\n",
    "    \n",
    "    def FindWord(self,dictionary):\n",
    "        for i in dictionary:\n",
    "            print(i)\n",
    "            if i=='*':\n",
    "                print(i)\n",
    "            else:\n",
    "                FindWord(DIC[i])\n",
    "\n",
    "\n",
    "\n",
    "    def AutoFill(self,word):\n",
    "        pointer = self.root\n",
    "        suggestions = []\n",
    "        for letter in word:\n",
    "            if letter in pointer:\n",
    "                print(letter)\n",
    "                pointer = pointer[letter]\n",
    "            else:\n",
    "                return print('There is no words')\n",
    "\n",
    "        dictionary = pointer\n",
    "        FindWord(dictionary)\n",
    "                \n",
    "\n",
    "        #if pointer['*'] == '*':\n",
    "        #    suggestions.append(word)\n",
    "\n",
    "        #MainPointer = pointer\n",
    "\n",
    "\n",
    "        #print(suggestions)    \n",
    "        #print(pointer)"
   ]
  },
  {
   "cell_type": "code",
   "execution_count": 45,
   "metadata": {},
   "outputs": [
    {
     "name": "stdout",
     "output_type": "stream",
     "text": [
      "*\n",
      "*\n",
      "t\n",
      "e\n",
      "r\n",
      "*\n",
      "*\n",
      "s\n",
      "*\n",
      "*\n"
     ]
    }
   ],
   "source": [
    "def FindWord(DIC):\n",
    "    for i in DIC:\n",
    "        print(i)\n",
    "        if i=='*':\n",
    "            print(i)\n",
    "        else:\n",
    "            FindWord(DIC[i])\n",
    "\n",
    "dic = {'*': '*', 't': {'e': {'r': {'*': '*'}}}, 's': {'*': '*'}}\n",
    "FindWord(dic)"
   ]
  },
  {
   "cell_type": "code",
   "execution_count": 43,
   "metadata": {},
   "outputs": [
    {
     "name": "stdout",
     "output_type": "stream",
     "text": [
      "{'*': '*', 'w': {'a': {'i': {'*': '*'}}}}\n",
      "{'*': '*', 'w': {'a': {'i': {'*': '*'}}}, 'r': {'a': {'w': {'*': '*'}}}}\n",
      "{'*': '*', 'w': {'a': {'i': {'*': '*', 't': {'*': '*'}}}}, 'r': {'a': {'w': {'*': '*'}}}}\n"
     ]
    }
   ],
   "source": [
    "trie = TrieTree()\n",
    "trie.AddWord('wai')\n",
    "#trie.AddWord('waiter')\n",
    "trie.AddWord('raw')\n",
    "trie.AddWord('wait')"
   ]
  },
  {
   "cell_type": "code",
   "execution_count": 37,
   "metadata": {},
   "outputs": [
    {
     "name": "stdout",
     "output_type": "stream",
     "text": [
      "w\n",
      "a\n",
      "i\n",
      "*\n",
      "*\n",
      "t\n",
      "*\n",
      "*\n"
     ]
    }
   ],
   "source": [
    "trie.AutoFill('wa')"
   ]
  },
  {
   "cell_type": "code",
   "execution_count": 4,
   "metadata": {},
   "outputs": [
    {
     "name": "stdout",
     "output_type": "stream",
     "text": [
      "{'*': '*', 'c': {'a': {'t': {'*': '*'}}}}\n"
     ]
    }
   ],
   "source": [
    "trie = TrieTree()\n",
    "trie.AddWord('cat')"
   ]
  },
  {
   "cell_type": "code",
   "execution_count": 5,
   "metadata": {},
   "outputs": [
    {
     "data": {
      "text/plain": [
       "False"
      ]
     },
     "execution_count": 5,
     "metadata": {},
     "output_type": "execute_result"
    }
   ],
   "source": [
    "trie.SearchWord('waaait')"
   ]
  },
  {
   "cell_type": "code",
   "execution_count": 6,
   "metadata": {},
   "outputs": [],
   "source": [
    "POINTER = {'*': '*', 'c': {'a': {'t': {'*': '*'}}}}"
   ]
  },
  {
   "cell_type": "code",
   "execution_count": 7,
   "metadata": {},
   "outputs": [
    {
     "data": {
      "text/plain": [
       "True"
      ]
     },
     "execution_count": 7,
     "metadata": {},
     "output_type": "execute_result"
    }
   ],
   "source": [
    "'c' in POINTER"
   ]
  },
  {
   "cell_type": "code",
   "execution_count": 8,
   "metadata": {},
   "outputs": [
    {
     "name": "stdout",
     "output_type": "stream",
     "text": [
      "*\n",
      "t\n",
      "s\n"
     ]
    }
   ],
   "source": [
    "dic = {'*': '*', 't': {'e': {'r': {'*': '*'}}}, 's': {'*': '*'}}\n",
    "for i in dic:\n",
    "    print(i)"
   ]
  },
  {
   "cell_type": "code",
   "execution_count": 9,
   "metadata": {},
   "outputs": [
    {
     "data": {
      "text/plain": [
       "True"
      ]
     },
     "execution_count": 9,
     "metadata": {},
     "output_type": "execute_result"
    }
   ],
   "source": [
    "dic['*'] == '*'"
   ]
  },
  {
   "cell_type": "code",
   "execution_count": 30,
   "metadata": {},
   "outputs": [],
   "source": [
    "def FindWord(DIC):\n",
    "    WORD = []\n",
    "    WHOLEWORD = []\n",
    "    for i in DIC:\n",
    "        WORD.append(i)\n",
    "        if i=='*':\n",
    "            WHOLEWORD.append(WORD)\n",
    "        else:\n",
    "            FindWord(DIC[i])\n",
    "    print(WHOLEWORD)"
   ]
  },
  {
   "cell_type": "code",
   "execution_count": 33,
   "metadata": {},
   "outputs": [
    {
     "data": {
      "text/plain": [
       "3"
      ]
     },
     "execution_count": 33,
     "metadata": {},
     "output_type": "execute_result"
    }
   ],
   "source": [
    "dic = {'*': '*', 't': {'e': {'r': {'*': '*'}}}, 's': {'*': '*'}}\n",
    "len(dic)"
   ]
  },
  {
   "cell_type": "code",
   "execution_count": 32,
   "metadata": {},
   "outputs": [
    {
     "name": "stdout",
     "output_type": "stream",
     "text": [
      "[['*']]\n",
      "[]\n",
      "[]\n",
      "[['*']]\n",
      "[['*', 't', 's']]\n"
     ]
    }
   ],
   "source": [
    "FindWord(dic)"
   ]
  },
  {
   "cell_type": "code",
   "execution_count": 10,
   "metadata": {},
   "outputs": [
    {
     "data": {
      "text/plain": [
       "{'e': {'r': {'*': '*'}}}"
      ]
     },
     "execution_count": 10,
     "metadata": {},
     "output_type": "execute_result"
    }
   ],
   "source": [
    "dic['t']"
   ]
  },
  {
   "cell_type": "code",
   "execution_count": 49,
   "metadata": {},
   "outputs": [
    {
     "data": {
      "text/plain": [
       "[1]"
      ]
     },
     "execution_count": 49,
     "metadata": {},
     "output_type": "execute_result"
    }
   ],
   "source": [
    "array = []\n",
    "array.insert(0,1,)\n",
    "array"
   ]
  },
  {
   "cell_type": "code",
   "execution_count": null,
   "metadata": {},
   "outputs": [],
   "source": []
  }
 ],
 "metadata": {
  "kernelspec": {
   "display_name": "Python 3.9.7 ('base')",
   "language": "python",
   "name": "python3"
  },
  "language_info": {
   "codemirror_mode": {
    "name": "ipython",
    "version": 3
   },
   "file_extension": ".py",
   "mimetype": "text/x-python",
   "name": "python",
   "nbconvert_exporter": "python",
   "pygments_lexer": "ipython3",
   "version": "3.9.7"
  },
  "orig_nbformat": 4,
  "vscode": {
   "interpreter": {
    "hash": "ad2bdc8ecc057115af97d19610ffacc2b4e99fae6737bb82f5d7fb13d2f2c186"
   }
  }
 },
 "nbformat": 4,
 "nbformat_minor": 2
}
